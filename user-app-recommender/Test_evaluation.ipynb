{
 "cells": [
  {
   "cell_type": "code",
   "execution_count": 1,
   "id": "e79f375b",
   "metadata": {},
   "outputs": [],
   "source": [
    "import pandas as pd\n",
    "import scipy.sparse as sparse\n",
    "import numpy as np\n",
    "import warnings\n",
    "import math\n",
    "warnings.filterwarnings(\"ignore\")\n",
    "import boto3\n",
    "from time import sleep\n",
    "from lightfm import LightFM, data,cross_validation, evaluation\n",
    "import seaborn as sns\n",
    "import pickle\n",
    "import numpy.matlib\n",
    "import pprint\n",
    "import tqdm\n",
    "from multiprocessing.dummy import Pool as ThreadPool\n",
    "from itertools import repeat\n",
    "import random\n",
    "from typing import List\n",
    "import functools\n",
    "from sklearn.neighbors import NearestNeighbors\n",
    "from typing import List\n",
    "import functools\n",
    "import pynndescent\n",
    "from recommender import Recommender\n",
    "import multiprocessing\n",
    "import utils\n",
    "import matplotlib.pyplot as plt"
   ]
  },
  {
   "cell_type": "code",
   "execution_count": 2,
   "id": "c7ee0414",
   "metadata": {},
   "outputs": [],
   "source": [
    "#number of unique users\n",
    "N_USERS = 100000\n",
    "#minimum number of devices on which the app needs to be installed to be considered in the training\n",
    "N_DEVICES = 500\n",
    "#number of latent factors for the recommendation model\n",
    "N_LATENT_FACTORS=30\n",
    "#number of recommendation model training epochs\n",
    "N_EPOCHS = 10\n",
    "#number of threads for parallel processing\n",
    "N_THREADS = multiprocessing.cpu_count() # or os.cpu_count()\n",
    "#organizations selected\n",
    "ORGS = ['entel', 'claroco', 'tim brasil', 'vivo', 'telefonica peru', 'claro br', 'claro ecuador']"
   ]
  },
  {
   "cell_type": "code",
   "execution_count": 3,
   "id": "09a1d6ae",
   "metadata": {},
   "outputs": [],
   "source": [
    "pool = ThreadPool(N_THREADS)\n",
    "boto3_session = boto3.Session()\n",
    "s3_client = boto3_session.client('s3')\n",
    "bucket = 'dr-campaign-optimization'"
   ]
  },
  {
   "cell_type": "markdown",
   "id": "6b8fbb3d",
   "metadata": {},
   "source": [
    "<h3> Load Data </h3>"
   ]
  },
  {
   "cell_type": "code",
   "execution_count": 5,
   "id": "c38d299e",
   "metadata": {},
   "outputs": [],
   "source": [
    "def get_data_from_athena(query,athena_querier=None,retries=1):\n",
    "    \"\"\"\n",
    "    TODO: divide this method in 2: sending query to querier and then reading results\n",
    "       queries athena for the data needed. Will create the raw_data and column_index attributes\n",
    "        Inputs: depends on the \n",
    "        Outputs:          \n",
    "    \"\"\"\n",
    "    if athena_querier is None:\n",
    "        athena_querier = utils.AthenaQuerier()\n",
    "\n",
    "    query_state = None\n",
    "    while (query_state != \"SUCCEEDED\" and retries>0):\n",
    "        query_id = athena_querier.start_acadia_query_execution(query)\n",
    "        queries_dict = athena_querier.wait_for_queries_completion(backoff_rate=1.2)    \n",
    "        query_state = queries_dict[query_id]\n",
    "        retries-=1\n",
    "        if query_state != \"SUCCEEDED\":\n",
    "            sleep(10)\n",
    "\n",
    "    if query_state != \"SUCCEEDED\":\n",
    "            raise NotImplementedError(\n",
    "                \"Max retries reached and query state at {}, handling not yet implemented\".format(query_state)\n",
    "            )\n",
    "    else:\n",
    "        raw_data = utils.read_from_s3(\n",
    "        pd.read_csv,\n",
    "        utils.ATHENA_OUTPUT_LOCATION[\"bucket\"],\n",
    "        utils.ATHENA_OUTPUT_LOCATION[\"directory\"] + query_id + \".csv\",\n",
    "        s3_client,\n",
    "    )\n",
    "        return raw_data\n",
    "    \n",
    "def load_training_data(orgs, max_len, is_local=False):\n",
    "    if isinstance(orgs, str):\n",
    "        orgs=f\"('{orgs}')\"\n",
    "    elif isinstance(orgs, list):\n",
    "        orgs=tuple(orgs)\n",
    "        \n",
    "    if is_local:\n",
    "      df = pd.read_csv('df_installedapps.csv')[['clientid', 'appname', 'devicemodel', 'org']].drop_duplicates()\n",
    "      return df\n",
    "    else:   \n",
    "        query = f\"\"\"\n",
    "        with devices_recent as (\n",
    "            select distinct \n",
    "                clientid, org, carrier, devicemake, devicemodel, lastactivedate\n",
    "            from \n",
    "                deviceinfo\n",
    "            where \n",
    "                org in {orgs} and clientid in (select distinct(clientid)\n",
    "                                            from \"acadia\".installedapps)\n",
    "            order by lastactivedate desc\n",
    "            limit {max_len}\n",
    "        ) \n",
    "        select \n",
    "            ia.clientid, appname, di.org, ia.org, devicemodel \n",
    "        from \n",
    "            \"acadia\".\"installedapps\" ia join devices_recent di on (ia.clientid = di.clientid)\n",
    "        \"\"\"   \n",
    "        athena_querier = utils.AthenaQuerier()\n",
    "        q = get_data_from_athena(query, athena_querier=athena_querier)\n",
    "        df = q[['clientid', 'appname', 'devicemodel', 'org']].drop_duplicates()\n",
    "    return q"
   ]
  },
  {
   "cell_type": "code",
   "execution_count": 5,
   "id": "73df7c5d",
   "metadata": {},
   "outputs": [
    {
     "name": "stdout",
     "output_type": "stream",
     "text": [
      "Starting to wait for queries completion...\n",
      "Will wait at most 7200 seconds...\n",
      "\n",
      "Starting wait number 1 at 2022-06-30 18:35:11.938767 for 10 seconds\n",
      "Finished waiting number 1\n",
      "Query States:\n",
      "{'28235f71-4837-41d7-9217-5f47505d48d2': 'RUNNING'}\n",
      "Starting wait number 2 at 2022-06-30 18:35:22.020147 for 12.0 seconds\n",
      "Finished waiting number 2\n",
      "Query States:\n",
      "{'28235f71-4837-41d7-9217-5f47505d48d2': 'RUNNING'}\n",
      "Starting wait number 3 at 2022-06-30 18:35:34.100453 for 14.399999999999999 seconds\n",
      "Finished waiting number 3\n",
      "Query States:\n",
      "{'28235f71-4837-41d7-9217-5f47505d48d2': 'RUNNING'}\n",
      "Starting wait number 4 at 2022-06-30 18:35:48.582279 for 17.279999999999998 seconds\n",
      "Finished waiting number 4\n",
      "Query States:\n",
      "{'28235f71-4837-41d7-9217-5f47505d48d2': 'SUCCEEDED'}\n",
      "Tamanho da base (4963478, 4)\n",
      "Número de users: 99959\n",
      "Número de apps: 114966\n"
     ]
    }
   ],
   "source": [
    "q = load_training_data(ORGS, N_USERS, is_local=False)\n",
    "df = q[['clientid', 'appname', 'devicemodel', 'org']].drop_duplicates()\n",
    "print(f'Tamanho da base {df.shape}')\n",
    "print(f'Número de users: {df.clientid.nunique()}')\n",
    "print(f'Número de apps: {df.appname.nunique()}')"
   ]
  },
  {
   "cell_type": "code",
   "execution_count": 6,
   "id": "9d247318",
   "metadata": {},
   "outputs": [
    {
     "name": "stdout",
     "output_type": "stream",
     "text": [
      "81.34% dos apps está instalado em 6 ou menos devices.\n"
     ]
    }
   ],
   "source": [
    "q1 = sum(df.appname.value_counts().reset_index().appname<=6)/df.appname.nunique()\n",
    "print(f'{round(q1*100,2)}% of apps is installed on 6 or less devices.')"
   ]
  },
  {
   "cell_type": "code",
   "execution_count": 7,
   "id": "e43e7b9d",
   "metadata": {},
   "outputs": [
    {
     "name": "stdout",
     "output_type": "stream",
     "text": [
      "O número de apps instalado em mais de 1000 devices é de 595.\n"
     ]
    }
   ],
   "source": [
    "n_users_app = df.appname.value_counts().reset_index()\n",
    "n_users_app['%total'] = n_users_app.appname/df.clientid.nunique()\n",
    "n_users_app.columns = ['app', 'n_users', '%total']\n",
    "\n",
    "n_devices = 1000\n",
    "q2 = sum(n_users_app.n_users>=n_devices)\n",
    "print(f'The number of apps installed on more than {n_devices} devices is {q2}.')\n",
    "relevant_apps = list(n_users_app[n_users_app.n_users>=n_devices].app)"
   ]
  },
  {
   "cell_type": "code",
   "execution_count": 8,
   "id": "cf4ead25",
   "metadata": {},
   "outputs": [
    {
     "data": {
      "image/png": "[encoded data removed]",
      "text/plain": [
       "<Figure size 432x288 with 1 Axes>"
      ]
     },
     "metadata": {},
     "output_type": "display_data"
    }
   ],
   "source": [
    "sns.set_style('darkgrid')\n",
    "x = 'app'\n",
    "y = '%total'\n",
    "sns.barplot(y, x, data = n_users_app.head(25));"
   ]
  },
  {
   "cell_type": "markdown",
   "id": "08023ec6",
   "metadata": {},
   "source": [
    "<h3> Masking </h3>"
   ]
  },
  {
   "cell_type": "code",
   "execution_count": 9,
   "id": "c3e189c0",
   "metadata": {},
   "outputs": [],
   "source": [
    "clients_ids_test = np.random.choice(df.clientid.unique(), int(len(df.clientid.unique())*.05))\n",
    "#apply filter. Select only the most relevant apps. Select only clients for training\n",
    "df_train = df[df.appname.isin(relevant_apps)][~df.clientid.isin(clients_ids_test)]"
   ]
  },
  {
   "cell_type": "code",
   "execution_count": 10,
   "id": "6b9fb17f",
   "metadata": {},
   "outputs": [],
   "source": [
    "df_test = df[df.appname.isin(relevant_apps)][df.clientid.isin(clients_ids_test)]"
   ]
  },
  {
   "cell_type": "code",
   "execution_count": 11,
   "id": "fcd8b9d7",
   "metadata": {},
   "outputs": [],
   "source": [
    "df_masked = df_train.groupby('clientid', group_keys=False).apply(lambda x: x.sample(frac=.2))\n",
    "#df_test = df_test[df_test.masked]\n",
    "apps_masked = df_masked.groupby('clientid')['appname'].apply(list)\n",
    "df_unmasked = df_train.copy()\n",
    "#df_train.loc[df_test.index, :] = df_test.replace({'installed': {1:0}})[:]\n",
    "df_unmasked = df_unmasked.drop(df_masked.index)"
   ]
  },
  {
   "cell_type": "markdown",
   "id": "bac2fe4d",
   "metadata": {},
   "source": [
    "<h3> Building sparse matrix </h3>"
   ]
  },
  {
   "cell_type": "code",
   "execution_count": 12,
   "id": "e57f3b05",
   "metadata": {},
   "outputs": [],
   "source": [
    "matrix = data.Dataset()\n",
    "matrix.fit(users=list(df_train.clientid.unique()), items=list(df_train.appname.unique()), \n",
    "                     user_features=list(df_train.devicemodel.unique()))\n",
    "interactions_unmasked = matrix.build_interactions(data=[[row[1], row[2]] for row in df_unmasked[['clientid', 'appname']].itertuples()])\n",
    "interactions_masked = matrix.build_interactions(data=[[row[1], row[2]] for row in df_masked[['clientid', 'appname']].itertuples()])\n",
    "user_features = matrix.build_user_features([[row[1], [row[2]]] for row in df_train[['clientid', 'devicemodel']].drop_duplicates().itertuples()], normalize=False)"
   ]
  },
  {
   "cell_type": "markdown",
   "id": "989fb694",
   "metadata": {},
   "source": [
    "<h3> Training </h3>"
   ]
  },
  {
   "cell_type": "code",
   "execution_count": 13,
   "id": "1501e8c9",
   "metadata": {},
   "outputs": [
    {
     "name": "stderr",
     "output_type": "stream",
     "text": [
      "Epoch: 100%|██████████| 10/10 [00:10<00:00,  1.05s/it]\n",
      "Epoch: 100%|██████████| 10/10 [00:12<00:00,  1.23s/it]\n",
      "Epoch: 100%|██████████| 10/10 [00:21<00:00,  2.16s/it]\n"
     ]
    },
    {
     "data": {
      "text/plain": [
       "<lightfm.lightfm.LightFM at 0x7f2f92f8dbb0>"
      ]
     },
     "execution_count": 13,
     "metadata": {},
     "output_type": "execute_result"
    }
   ],
   "source": [
    "model_lightfm_warp = LightFM(no_components=30, learning_rate=0.05, loss='warp')\n",
    "model_lightfm_warp.fit(interactions_unmasked[0], epochs=10, verbose=True, num_threads=N_THREADS)\n",
    "\n",
    "model_lightfm_bpr = LightFM(no_components=30, learning_rate=0.05, loss='bpr')\n",
    "model_lightfm_bpr.fit(interactions_unmasked[0], epochs=10, verbose=True, num_threads=N_THREADS)\n",
    "\n",
    "model_lightfm_warpkos = LightFM(no_components=30, learning_rate=0.05, loss='warp-kos', k=5)\n",
    "model_lightfm_warpkos.fit(interactions_unmasked[0], epochs=10, verbose=True, num_threads=N_THREADS)"
   ]
  },
  {
   "cell_type": "code",
   "execution_count": 14,
   "id": "6f9f17fe",
   "metadata": {},
   "outputs": [
    {
     "name": "stdout",
     "output_type": "stream",
     "text": [
      "Thu Jun 30 18:37:47 2022 Building RP forest with 23 trees\n",
      "Thu Jun 30 18:38:03 2022 metric NN descent for 17 iterations\n",
      "\t 1  /  17\n",
      "\t 2  /  17\n",
      "\t 3  /  17\n",
      "\t 4  /  17\n",
      "\t 5  /  17\n",
      "\t 6  /  17\n",
      "\t 7  /  17\n",
      "\tStopping threshold met -- exiting after 7 iterations\n"
     ]
    }
   ],
   "source": [
    "nbrs_training = pynndescent.NNDescent(interactions_unmasked[0].tocsr(), metric=\"cosine\", n_jobs=N_THREADS, verbose=True)"
   ]
  },
  {
   "cell_type": "markdown",
   "id": "ed300c76",
   "metadata": {},
   "source": [
    "<h3> Evaluation </h3>"
   ]
  },
  {
   "cell_type": "markdown",
   "id": "c6fcd1b8",
   "metadata": {},
   "source": [
    "Discounted Cumulative Gain \n",
    "$$DCG = \\sum_{k=1}^{n}\\frac{2^{y_{k}}-1}{log_{2}(k+1)}$$\n",
    "\n",
    "<ul>\n",
    "    <li>recommender system precision = $\\frac{\\textrm{# of our recommendation that are relevant}}{\\textrm{# of itens we recommended}}$</li>\n",
    "    <li>recommender system recall = $\\frac{\\textrm{# of our recommendations that are relevant}}{\\textrm{# of all the possible relevant items}}$</li>\n",
    "</ul>\n",
    "$$ MAP@N = \\frac{1}{|U|}\\sum_{u\\in U}{\\frac{1}{m}\\sum_{k=1}^{N}{P_{u}(k)rel_{u}(k)}} $$"
   ]
  },
  {
   "cell_type": "code",
   "execution_count": 15,
   "id": "327fe93b",
   "metadata": {},
   "outputs": [],
   "source": [
    "mapping = matrix.mapping()\n",
    "rec = Recommender(mapping, interactions_unmasked[0], relevant_apps, interactions_masked[0])"
   ]
  },
  {
   "cell_type": "code",
   "execution_count": 16,
   "id": "0b10b61f",
   "metadata": {},
   "outputs": [
    {
     "name": "stderr",
     "output_type": "stream",
     "text": [
      "100%|██████████| 40000/40000 [00:21<00:00, 1823.59it/s]\n",
      "100%|██████████| 40000/40000 [00:08<00:00, 4520.33it/s]\n",
      "100%|██████████| 40000/40000 [00:17<00:00, 2251.55it/s]\n",
      "100%|██████████| 40000/40000 [00:08<00:00, 4469.19it/s]\n",
      "100%|██████████| 40000/40000 [00:19<00:00, 2027.75it/s]\n",
      "100%|██████████| 40000/40000 [00:09<00:00, 4314.74it/s]\n",
      "100%|██████████| 40000/40000 [00:08<00:00, 4499.18it/s]\n"
     ]
    },
    {
     "name": "stdout",
     "output_type": "stream",
     "text": [
      "CPU times: user 17min 11s, sys: 1.8 s, total: 17min 13s\n",
      "Wall time: 2min 27s\n"
     ]
    }
   ],
   "source": [
    "%%time\n",
    "dict_evaluation = rec.evaluation_model([model_lightfm_warp, model_lightfm_bpr, model_lightfm_warpkos], ['LightFM_warp', 'LightFM_bpr', 'LightFM_warpkos'],\n",
    "                                       n_sample=40000, use_baseline=True)"
   ]
  },
  {
   "cell_type": "code",
   "execution_count": 17,
   "id": "137d9a26",
   "metadata": {},
   "outputs": [
    {
     "data": {
      "image/png": "[encoded data removed]",
      "text/plain": [
       "<Figure size 432x288 with 1 Axes>"
      ]
     },
     "metadata": {},
     "output_type": "display_data"
    },
    {
     "data": {
      "image/png": "[encoded data removed]",
      "text/plain": [
       "<Figure size 432x288 with 1 Axes>"
      ]
     },
     "metadata": {},
     "output_type": "display_data"
    }
   ],
   "source": [
    "for k,v in zip(dict_evaluation.keys(), dict_evaluation.values()):\n",
    "    plt.bar(*zip(*v.items()))\n",
    "    plt.ylabel(f'{k}')\n",
    "    plt.title(f'{k} by model.')\n",
    "    plt.show()"
   ]
  },
  {
   "cell_type": "code",
   "execution_count": 18,
   "id": "764c4831",
   "metadata": {},
   "outputs": [
    {
     "name": "stderr",
     "output_type": "stream",
     "text": [
      "100%|██████████| 10000/10000 [00:05<00:00, 1985.93it/s]\n",
      "100%|██████████| 10000/10000 [00:00<00:00, 37209.77it/s]\n",
      "100%|██████████| 10000/10000 [00:04<00:00, 2066.01it/s]\n",
      "100%|██████████| 10000/10000 [00:00<00:00, 38514.41it/s]\n",
      "100%|██████████| 10000/10000 [00:04<00:00, 2020.13it/s]\n",
      "100%|██████████| 10000/10000 [00:00<00:00, 37418.71it/s]\n",
      "100%|██████████| 10000/10000 [00:00<00:00, 39234.93it/s]\n"
     ]
    }
   ],
   "source": [
    "precision_by_k = rec.evaluating_precision_model_by_k([model_lightfm_warp, model_lightfm_bpr, model_lightfm_warpkos], ['LightFM_warp', 'LightFM_bpr', 'LightFM_warpkos'],\n",
    "                                       n_sample=10000, k_max=10, baselines=['popularity'])"
   ]
  },
  {
   "cell_type": "code",
   "execution_count": 19,
   "id": "d6c47c19",
   "metadata": {},
   "outputs": [
    {
     "data": {
      "text/html": [
       "<div>\n",
       "<style scoped>\n",
       "    .dataframe tbody tr th:only-of-type {\n",
       "        vertical-align: middle;\n",
       "    }\n",
       "\n",
       "    .dataframe tbody tr th {\n",
       "        vertical-align: top;\n",
       "    }\n",
       "\n",
       "    .dataframe thead th {\n",
       "        text-align: right;\n",
       "    }\n",
       "</style>\n",
       "<table border=\"1\" class=\"dataframe\">\n",
       "  <thead>\n",
       "    <tr style=\"text-align: right;\">\n",
       "      <th></th>\n",
       "      <th>LightFM_warp</th>\n",
       "      <th>LightFM_bpr</th>\n",
       "      <th>LightFM_warpkos</th>\n",
       "      <th>popularity</th>\n",
       "    </tr>\n",
       "    <tr>\n",
       "      <th>k</th>\n",
       "      <th></th>\n",
       "      <th></th>\n",
       "      <th></th>\n",
       "      <th></th>\n",
       "    </tr>\n",
       "  </thead>\n",
       "  <tbody>\n",
       "    <tr>\n",
       "      <th>2</th>\n",
       "      <td>0.580297</td>\n",
       "      <td>0.393673</td>\n",
       "      <td>0.547478</td>\n",
       "      <td>0.365865</td>\n",
       "    </tr>\n",
       "    <tr>\n",
       "      <th>3</th>\n",
       "      <td>0.552594</td>\n",
       "      <td>0.354091</td>\n",
       "      <td>0.524890</td>\n",
       "      <td>0.328988</td>\n",
       "    </tr>\n",
       "    <tr>\n",
       "      <th>4</th>\n",
       "      <td>0.532097</td>\n",
       "      <td>0.327313</td>\n",
       "      <td>0.508016</td>\n",
       "      <td>0.310038</td>\n",
       "    </tr>\n",
       "    <tr>\n",
       "      <th>5</th>\n",
       "      <td>0.521343</td>\n",
       "      <td>0.310286</td>\n",
       "      <td>0.495719</td>\n",
       "      <td>0.298275</td>\n",
       "    </tr>\n",
       "    <tr>\n",
       "      <th>6</th>\n",
       "      <td>0.511435</td>\n",
       "      <td>0.297180</td>\n",
       "      <td>0.484524</td>\n",
       "      <td>0.290288</td>\n",
       "    </tr>\n",
       "    <tr>\n",
       "      <th>7</th>\n",
       "      <td>0.500772</td>\n",
       "      <td>0.284788</td>\n",
       "      <td>0.472578</td>\n",
       "      <td>0.280638</td>\n",
       "    </tr>\n",
       "    <tr>\n",
       "      <th>8</th>\n",
       "      <td>0.491416</td>\n",
       "      <td>0.273994</td>\n",
       "      <td>0.465746</td>\n",
       "      <td>0.273195</td>\n",
       "    </tr>\n",
       "    <tr>\n",
       "      <th>9</th>\n",
       "      <td>0.483772</td>\n",
       "      <td>0.264510</td>\n",
       "      <td>0.456283</td>\n",
       "      <td>0.271432</td>\n",
       "    </tr>\n",
       "    <tr>\n",
       "      <th>10</th>\n",
       "      <td>0.477626</td>\n",
       "      <td>0.260700</td>\n",
       "      <td>0.451232</td>\n",
       "      <td>0.272892</td>\n",
       "    </tr>\n",
       "  </tbody>\n",
       "</table>\n",
       "</div>"
      ],
      "text/plain": [
       "    LightFM_warp  LightFM_bpr  LightFM_warpkos  popularity\n",
       "k                                                         \n",
       "2       0.580297     0.393673         0.547478    0.365865\n",
       "3       0.552594     0.354091         0.524890    0.328988\n",
       "4       0.532097     0.327313         0.508016    0.310038\n",
       "5       0.521343     0.310286         0.495719    0.298275\n",
       "6       0.511435     0.297180         0.484524    0.290288\n",
       "7       0.500772     0.284788         0.472578    0.280638\n",
       "8       0.491416     0.273994         0.465746    0.273195\n",
       "9       0.483772     0.264510         0.456283    0.271432\n",
       "10      0.477626     0.260700         0.451232    0.272892"
      ]
     },
     "execution_count": 19,
     "metadata": {},
     "output_type": "execute_result"
    }
   ],
   "source": [
    "precision_by_k\n",
    "precision_by_k.index.name = 'k'\n",
    "precision_by_k"
   ]
  },
  {
   "cell_type": "code",
   "execution_count": 20,
   "id": "93b7c50e",
   "metadata": {},
   "outputs": [
    {
     "data": {
      "image/png": "[encoded data removed]",
      "text/plain": [
       "<Figure size 432x288 with 1 Axes>"
      ]
     },
     "metadata": {},
     "output_type": "display_data"
    }
   ],
   "source": [
    "precision_by_k.plot.line(xlabel='k', ylabel='precision', title='Precision by k');"
   ]
  },
  {
   "cell_type": "markdown",
   "id": "fc7b598b",
   "metadata": {},
   "source": [
    "<h3> Comparing precision between similarity-based  and popularity-based recommendation</h3>"
   ]
  },
  {
   "cell_type": "code",
   "execution_count": 21,
   "id": "46bac989",
   "metadata": {},
   "outputs": [],
   "source": [
    "df_t = df_test"
   ]
  },
  {
   "cell_type": "code",
   "execution_count": 22,
   "id": "c3127d61",
   "metadata": {},
   "outputs": [],
   "source": [
    "s = df_t.groupby('clientid').appname.count()\n",
    "df_t = df_t[df_t.clientid.isin(s[s > 5].index.tolist())]"
   ]
  },
  {
   "cell_type": "code",
   "execution_count": 23,
   "id": "9498c589",
   "metadata": {},
   "outputs": [],
   "source": [
    "df_test_masked = df_t.groupby('clientid', group_keys=False).apply(lambda x: x.sample(frac=.2))\n",
    "apps_test_masked = df_test_masked.groupby('clientid')['appname'].apply(list)\n",
    "df_test_unmasked = df_t.copy()\n",
    "df_test_unmasked = df_test_unmasked.drop(df_test_masked.index)"
   ]
  },
  {
   "cell_type": "code",
   "execution_count": 24,
   "id": "91781eb5",
   "metadata": {},
   "outputs": [],
   "source": [
    "Apps_list = np.array(df_test_unmasked.groupby('clientid').appname.apply(list))"
   ]
  },
  {
   "cell_type": "code",
   "execution_count": 25,
   "id": "1ea2e7a9",
   "metadata": {},
   "outputs": [
    {
     "name": "stdout",
     "output_type": "stream",
     "text": [
      "Thu Jun 30 18:43:23 2022 Worst tree score: 0.31709421\n",
      "Thu Jun 30 18:43:23 2022 Mean tree score: 0.33845951\n",
      "Thu Jun 30 18:43:23 2022 Best tree score: 0.35362173\n",
      "Thu Jun 30 18:43:33 2022 Forward diversification reduced edges from 2852370 to 905238\n",
      "Thu Jun 30 18:43:38 2022 Reverse diversification reduced edges from 905238 to 905238\n",
      "Thu Jun 30 18:43:41 2022 Degree pruning reduced edges from 1253746 to 1246195\n",
      "Thu Jun 30 18:43:41 2022 Resorting data and graph based on tree order\n",
      "Thu Jun 30 18:43:41 2022 Building and compiling sparse search function\n"
     ]
    },
    {
     "name": "stderr",
     "output_type": "stream",
     "text": [
      "100%|██████████| 23965/23965 [00:11<00:00, 1999.61it/s]\n"
     ]
    },
    {
     "name": "stdout",
     "output_type": "stream",
     "text": [
      "--- 45.41772532463074 seconds ---\n"
     ]
    }
   ],
   "source": [
    "import time\n",
    "start_time = time.time()\n",
    "dfs = rec.predict_similarity_based(nbrs_training, model_lightfm_warp, Apps_list)\n",
    "t1 = time.time() - start_time\n",
    "print(\"--- %s seconds ---\" % (t1))"
   ]
  },
  {
   "cell_type": "code",
   "execution_count": 26,
   "id": "c8be86e5",
   "metadata": {},
   "outputs": [
    {
     "name": "stdout",
     "output_type": "stream",
     "text": [
      "Time for user: 0.0095 seconds\n"
     ]
    }
   ],
   "source": [
    "print(f'Time for user: {round(t1/len(Apps_list),4)} seconds')"
   ]
  },
  {
   "cell_type": "code",
   "execution_count": 27,
   "id": "30f88000",
   "metadata": {},
   "outputs": [
    {
     "name": "stdout",
     "output_type": "stream",
     "text": [
      "--- 0.5594751834869385 seconds ---\n"
     ]
    }
   ],
   "source": [
    "import time\n",
    "start_time = time.time()\n",
    "dfp = rec.predict_baseline(users_apps = Apps_list, baseline ='popularity')\n",
    "t2 = time.time() - start_time\n",
    "print(\"--- %s seconds ---\" % (t2))"
   ]
  },
  {
   "cell_type": "code",
   "execution_count": 28,
   "id": "dbdcd967",
   "metadata": {},
   "outputs": [
    {
     "name": "stdout",
     "output_type": "stream",
     "text": [
      "Time for user: 0.0001 seconds\n"
     ]
    }
   ],
   "source": [
    "print(f'Time for user: {round(t2/len(Apps_list),4)} seconds')"
   ]
  },
  {
   "cell_type": "code",
   "execution_count": 29,
   "id": "d5821176",
   "metadata": {},
   "outputs": [],
   "source": [
    "sim_precision = []\n",
    "pop_precision = []\n",
    "for i in range(len(dfs)):\n",
    "    sim_tops = dfs.iloc[i,:].sort_values(ascending=False).index\n",
    "    pop_tops =  dfp.iloc[i,:].sort_values(ascending=False).index\n",
    "    actual = apps_test_masked[i]\n",
    "    sim_precision.append(rec._score(sim_tops, actual, 'precision'))\n",
    "    pop_precision.append(rec._score(pop_tops, actual, 'precision'))"
   ]
  },
  {
   "cell_type": "code",
   "execution_count": 30,
   "id": "a1d6bdd7",
   "metadata": {},
   "outputs": [
    {
     "name": "stdout",
     "output_type": "stream",
     "text": [
      "Average precision for similarity based model: 0.54\n",
      "Average precision for poularity based model: 0.3\n"
     ]
    }
   ],
   "source": [
    "print(f'Average precision for similarity based model: {round(np.mean(sim_precision),2)}')\n",
    "print(f'Average precision for poularity based model: {round(np.mean(pop_precision),2)}')"
   ]
  },
  {
   "cell_type": "markdown",
   "id": "0df33ee5",
   "metadata": {},
   "source": [
    "<h3> Evaluation by organization </h3>"
   ]
  },
  {
   "cell_type": "code",
   "execution_count": 6,
   "id": "a66a3114",
   "metadata": {},
   "outputs": [
    {
     "name": "stdout",
     "output_type": "stream",
     "text": [
      "-----------------------LOAD AND PREPARATION-entel-----------------------\n",
      "Starting to wait for queries completion...\n",
      "Will wait at most 7200 seconds...\n",
      "\n",
      "Starting wait number 1 at 2022-06-30 21:02:06.251951 for 10 seconds\n",
      "Finished waiting number 1\n",
      "Query States:\n",
      "{'44a7e402-6bb5-4a9a-8a47-ce819640c56f': 'RUNNING'}\n",
      "Starting wait number 2 at 2022-06-30 21:02:16.324779 for 12.0 seconds\n",
      "Finished waiting number 2\n",
      "Query States:\n",
      "{'44a7e402-6bb5-4a9a-8a47-ce819640c56f': 'RUNNING'}\n",
      "Starting wait number 3 at 2022-06-30 21:02:28.409670 for 14.399999999999999 seconds\n",
      "Finished waiting number 3\n",
      "Query States:\n",
      "{'44a7e402-6bb5-4a9a-8a47-ce819640c56f': 'SUCCEEDED'}\n",
      "O número de apps instalado em mais de 1000 devices é de 245.\n",
      "----------------------MASKING-entel---------------------------------------\n",
      "----------------------BUILDING SPARSE MATRIX-entel---------------------------------------\n",
      "----------------------TRAINING-entel---------------------------------------\n"
     ]
    },
    {
     "name": "stderr",
     "output_type": "stream",
     "text": [
      "Epoch: 100%|██████████| 10/10 [00:03<00:00,  2.85it/s]\n"
     ]
    },
    {
     "name": "stdout",
     "output_type": "stream",
     "text": [
      "----------------------EVALUATION-entel---------------------------------------\n"
     ]
    },
    {
     "name": "stderr",
     "output_type": "stream",
     "text": [
      "100%|██████████| 10000/10000 [00:03<00:00, 2533.10it/s]\n",
      "100%|██████████| 10000/10000 [00:00<00:00, 126011.46it/s]\n",
      "100%|██████████| 10000/10000 [00:00<00:00, 128103.60it/s]\n"
     ]
    },
    {
     "name": "stdout",
     "output_type": "stream",
     "text": [
      "-----------------------LOAD AND PREPARATION-claroco-----------------------\n",
      "Starting to wait for queries completion...\n",
      "Will wait at most 7200 seconds...\n",
      "\n",
      "Starting wait number 1 at 2022-06-30 21:03:29.266740 for 10 seconds\n",
      "Finished waiting number 1\n",
      "Query States:\n",
      "{'cd4e37fa-472c-4926-8a57-f8d2bf4841e2': 'RUNNING'}\n",
      "Starting wait number 2 at 2022-06-30 21:03:39.341801 for 12.0 seconds\n",
      "Finished waiting number 2\n",
      "Query States:\n",
      "{'cd4e37fa-472c-4926-8a57-f8d2bf4841e2': 'RUNNING'}\n",
      "Starting wait number 3 at 2022-06-30 21:03:51.568446 for 14.399999999999999 seconds\n",
      "Finished waiting number 3\n",
      "Query States:\n",
      "{'cd4e37fa-472c-4926-8a57-f8d2bf4841e2': 'SUCCEEDED'}\n",
      "O número de apps instalado em mais de 1000 devices é de 512.\n",
      "----------------------MASKING-claroco---------------------------------------\n",
      "----------------------BUILDING SPARSE MATRIX-claroco---------------------------------------\n",
      "----------------------TRAINING-claroco---------------------------------------\n"
     ]
    },
    {
     "name": "stderr",
     "output_type": "stream",
     "text": [
      "Epoch: 100%|██████████| 10/10 [00:10<00:00,  1.09s/it]\n"
     ]
    },
    {
     "name": "stdout",
     "output_type": "stream",
     "text": [
      "----------------------EVALUATION-claroco---------------------------------------\n"
     ]
    },
    {
     "name": "stderr",
     "output_type": "stream",
     "text": [
      "100%|██████████| 10000/10000 [00:04<00:00, 2223.22it/s]\n",
      "100%|██████████| 10000/10000 [00:00<00:00, 36168.27it/s]\n",
      "100%|██████████| 10000/10000 [00:00<00:00, 38276.39it/s]\n"
     ]
    },
    {
     "name": "stdout",
     "output_type": "stream",
     "text": [
      "-----------------------LOAD AND PREPARATION-tim brasil-----------------------\n",
      "Starting to wait for queries completion...\n",
      "Will wait at most 7200 seconds...\n",
      "\n",
      "Starting wait number 1 at 2022-06-30 21:05:22.125108 for 10 seconds\n",
      "Finished waiting number 1\n",
      "Query States:\n",
      "{'cd66fb99-23e9-4fca-be15-a2344a743781': 'RUNNING'}\n",
      "Starting wait number 2 at 2022-06-30 21:05:32.202986 for 12.0 seconds\n",
      "Finished waiting number 2\n",
      "Query States:\n",
      "{'cd66fb99-23e9-4fca-be15-a2344a743781': 'RUNNING'}\n",
      "Starting wait number 3 at 2022-06-30 21:05:44.284678 for 14.399999999999999 seconds\n",
      "Finished waiting number 3\n",
      "Query States:\n",
      "{'cd66fb99-23e9-4fca-be15-a2344a743781': 'SUCCEEDED'}\n",
      "O número de apps instalado em mais de 1000 devices é de 551.\n",
      "----------------------MASKING-tim brasil---------------------------------------\n",
      "----------------------BUILDING SPARSE MATRIX-tim brasil---------------------------------------\n",
      "----------------------TRAINING-tim brasil---------------------------------------\n"
     ]
    },
    {
     "name": "stderr",
     "output_type": "stream",
     "text": [
      "Epoch: 100%|██████████| 10/10 [00:11<00:00,  1.15s/it]\n"
     ]
    },
    {
     "name": "stdout",
     "output_type": "stream",
     "text": [
      "----------------------EVALUATION-tim brasil---------------------------------------\n"
     ]
    },
    {
     "name": "stderr",
     "output_type": "stream",
     "text": [
      "100%|██████████| 10000/10000 [00:04<00:00, 2149.34it/s]\n",
      "100%|██████████| 10000/10000 [00:00<00:00, 22018.85it/s]\n",
      "100%|██████████| 10000/10000 [00:00<00:00, 35586.57it/s]\n"
     ]
    },
    {
     "name": "stdout",
     "output_type": "stream",
     "text": [
      "-----------------------LOAD AND PREPARATION-vivo-----------------------\n",
      "Starting to wait for queries completion...\n",
      "Will wait at most 7200 seconds...\n",
      "\n",
      "Starting wait number 1 at 2022-06-30 21:07:17.914321 for 10 seconds\n",
      "Finished waiting number 1\n",
      "Query States:\n",
      "{'b46571a5-ffce-4f4f-a653-231ddf6d4fed': 'RUNNING'}\n",
      "Starting wait number 2 at 2022-06-30 21:07:27.996499 for 12.0 seconds\n",
      "Finished waiting number 2\n",
      "Query States:\n",
      "{'b46571a5-ffce-4f4f-a653-231ddf6d4fed': 'RUNNING'}\n",
      "Starting wait number 3 at 2022-06-30 21:07:40.087152 for 14.399999999999999 seconds\n",
      "Finished waiting number 3\n",
      "Query States:\n",
      "{'b46571a5-ffce-4f4f-a653-231ddf6d4fed': 'RUNNING'}\n",
      "Starting wait number 4 at 2022-06-30 21:07:54.568384 for 17.279999999999998 seconds\n",
      "Finished waiting number 4\n",
      "Query States:\n",
      "{'b46571a5-ffce-4f4f-a653-231ddf6d4fed': 'SUCCEEDED'}\n",
      "O número de apps instalado em mais de 1000 devices é de 604.\n",
      "----------------------MASKING-vivo---------------------------------------\n",
      "----------------------BUILDING SPARSE MATRIX-vivo---------------------------------------\n",
      "----------------------TRAINING-vivo---------------------------------------\n"
     ]
    },
    {
     "name": "stderr",
     "output_type": "stream",
     "text": [
      "Epoch: 100%|██████████| 10/10 [00:11<00:00,  1.19s/it]\n"
     ]
    },
    {
     "name": "stdout",
     "output_type": "stream",
     "text": [
      "----------------------EVALUATION-vivo---------------------------------------\n"
     ]
    },
    {
     "name": "stderr",
     "output_type": "stream",
     "text": [
      "100%|██████████| 10000/10000 [00:04<00:00, 2117.65it/s]\n",
      "100%|██████████| 10000/10000 [00:00<00:00, 32249.39it/s]\n",
      "100%|██████████| 10000/10000 [00:00<00:00, 33770.65it/s]\n"
     ]
    },
    {
     "name": "stdout",
     "output_type": "stream",
     "text": [
      "-----------------------LOAD AND PREPARATION-telefonica peru-----------------------\n",
      "Starting to wait for queries completion...\n",
      "Will wait at most 7200 seconds...\n",
      "\n",
      "Starting wait number 1 at 2022-06-30 21:09:35.006967 for 10 seconds\n",
      "Finished waiting number 1\n",
      "Query States:\n",
      "{'364f93af-6021-40f9-ab9f-7dcaba9b0a6c': 'RUNNING'}\n",
      "Starting wait number 2 at 2022-06-30 21:09:45.078757 for 12.0 seconds\n",
      "Finished waiting number 2\n",
      "Query States:\n",
      "{'364f93af-6021-40f9-ab9f-7dcaba9b0a6c': 'SUCCEEDED'}\n",
      "O número de apps instalado em mais de 1000 devices é de 521.\n",
      "----------------------MASKING-telefonica peru---------------------------------------\n",
      "----------------------BUILDING SPARSE MATRIX-telefonica peru---------------------------------------\n",
      "----------------------TRAINING-telefonica peru---------------------------------------\n"
     ]
    },
    {
     "name": "stderr",
     "output_type": "stream",
     "text": [
      "Epoch: 100%|██████████| 10/10 [00:09<00:00,  1.08it/s]\n"
     ]
    },
    {
     "name": "stdout",
     "output_type": "stream",
     "text": [
      "----------------------EVALUATION-telefonica peru---------------------------------------\n"
     ]
    },
    {
     "name": "stderr",
     "output_type": "stream",
     "text": [
      "100%|██████████| 10000/10000 [00:04<00:00, 2098.07it/s]\n",
      "100%|██████████| 10000/10000 [00:00<00:00, 44090.74it/s]\n",
      "100%|██████████| 10000/10000 [00:00<00:00, 45697.85it/s]\n"
     ]
    },
    {
     "name": "stdout",
     "output_type": "stream",
     "text": [
      "-----------------------LOAD AND PREPARATION-claro br-----------------------\n",
      "Starting to wait for queries completion...\n",
      "Will wait at most 7200 seconds...\n",
      "\n",
      "Starting wait number 1 at 2022-06-30 21:11:09.338043 for 10 seconds\n",
      "Finished waiting number 1\n",
      "Query States:\n",
      "{'961ec471-a1e4-4256-8abd-edb1441cf978': 'RUNNING'}\n",
      "Starting wait number 2 at 2022-06-30 21:11:19.415058 for 12.0 seconds\n",
      "Finished waiting number 2\n",
      "Query States:\n",
      "{'961ec471-a1e4-4256-8abd-edb1441cf978': 'RUNNING'}\n",
      "Starting wait number 3 at 2022-06-30 21:11:31.509570 for 14.399999999999999 seconds\n",
      "Finished waiting number 3\n",
      "Query States:\n",
      "{'961ec471-a1e4-4256-8abd-edb1441cf978': 'SUCCEEDED'}\n",
      "O número de apps instalado em mais de 1000 devices é de 394.\n",
      "----------------------MASKING-claro br---------------------------------------\n",
      "----------------------BUILDING SPARSE MATRIX-claro br---------------------------------------\n",
      "----------------------TRAINING-claro br---------------------------------------\n"
     ]
    },
    {
     "name": "stderr",
     "output_type": "stream",
     "text": [
      "Epoch: 100%|██████████| 10/10 [00:07<00:00,  1.43it/s]\n"
     ]
    },
    {
     "name": "stdout",
     "output_type": "stream",
     "text": [
      "----------------------EVALUATION-claro br---------------------------------------\n"
     ]
    },
    {
     "name": "stderr",
     "output_type": "stream",
     "text": [
      "100%|██████████| 10000/10000 [00:04<00:00, 2208.26it/s]\n",
      "100%|██████████| 10000/10000 [00:00<00:00, 61356.74it/s]\n",
      "100%|██████████| 10000/10000 [00:00<00:00, 66507.21it/s]\n"
     ]
    },
    {
     "name": "stdout",
     "output_type": "stream",
     "text": [
      "-----------------------LOAD AND PREPARATION-claro ecuador-----------------------\n",
      "Starting to wait for queries completion...\n",
      "Will wait at most 7200 seconds...\n",
      "\n",
      "Starting wait number 1 at 2022-06-30 21:12:49.056635 for 10 seconds\n",
      "Finished waiting number 1\n",
      "Query States:\n",
      "{'c241d7ae-1226-46e8-aabd-2d5296c202c1': 'RUNNING'}\n",
      "Starting wait number 2 at 2022-06-30 21:12:59.138709 for 12.0 seconds\n",
      "Finished waiting number 2\n",
      "Query States:\n",
      "{'c241d7ae-1226-46e8-aabd-2d5296c202c1': 'RUNNING'}\n",
      "Starting wait number 3 at 2022-06-30 21:13:11.226933 for 14.399999999999999 seconds\n",
      "Finished waiting number 3\n",
      "Query States:\n",
      "{'c241d7ae-1226-46e8-aabd-2d5296c202c1': 'SUCCEEDED'}\n",
      "O número de apps instalado em mais de 1000 devices é de 411.\n",
      "----------------------MASKING-claro ecuador---------------------------------------\n",
      "----------------------BUILDING SPARSE MATRIX-claro ecuador---------------------------------------\n",
      "----------------------TRAINING-claro ecuador---------------------------------------\n"
     ]
    },
    {
     "name": "stderr",
     "output_type": "stream",
     "text": [
      "Epoch: 100%|██████████| 10/10 [00:07<00:00,  1.28it/s]\n"
     ]
    },
    {
     "name": "stdout",
     "output_type": "stream",
     "text": [
      "----------------------EVALUATION-claro ecuador---------------------------------------\n"
     ]
    },
    {
     "name": "stderr",
     "output_type": "stream",
     "text": [
      "100%|██████████| 10000/10000 [00:04<00:00, 2228.05it/s]\n",
      "100%|██████████| 10000/10000 [00:00<00:00, 57976.58it/s]\n",
      "100%|██████████| 10000/10000 [00:00<00:00, 29639.50it/s]\n"
     ]
    }
   ],
   "source": [
    "precision_by_org = {}\n",
    "for org in ORGS:\n",
    "    print(f'-----------------------LOAD AND PREPARATION-{org}-----------------------')\n",
    "    q = load_training_data(org, N_USERS, is_local=False)\n",
    "    df = q[['clientid', 'appname', 'devicemodel', 'org']].drop_duplicates()\n",
    "    n_users_app = df.appname.value_counts().reset_index()\n",
    "    n_users_app['%total'] = n_users_app.appname/df.clientid.nunique()\n",
    "    n_users_app.columns = ['app', 'n_users', '%total']\n",
    "    n_devices = 1000 \n",
    "    q2 = sum(n_users_app.n_users>=n_devices)\n",
    "    print(f'O número de apps instalado em mais de {n_devices} devices é de {q2}.')\n",
    "    relevant_apps = list(n_users_app[n_users_app.n_users>=n_devices].app)\n",
    "    print(f'----------------------MASKING-{org}---------------------------------------')\n",
    "    clients_ids_test = np.random.choice(df.clientid.unique(), int(len(df.clientid.unique())*.05))\n",
    "    #apply filter. Select only the most relevant apps. Select only clients for training\n",
    "    df_train = df[df.appname.isin(relevant_apps)][~df.clientid.isin(clients_ids_test)]\n",
    "    df_test = df[df.appname.isin(relevant_apps)][df.clientid.isin(clients_ids_test)]\n",
    "    df_masked = df_train.groupby('clientid', group_keys=False).apply(lambda x: x.sample(frac=.2))\n",
    "    #df_test = df_test[df_test.masked]\n",
    "    apps_masked = df_masked.groupby('clientid')['appname'].apply(list)\n",
    "    df_unmasked = df_train.copy()\n",
    "    #df_train.loc[df_test.index, :] = df_test.replace({'installed': {1:0}})[:]\n",
    "    df_unmasked = df_unmasked.drop(df_masked.index)\n",
    "    print(f'----------------------BUILDING SPARSE MATRIX-{org}---------------------------------------')\n",
    "    matrix = data.Dataset()\n",
    "    matrix.fit(users=list(df_train.clientid.unique()), items=list(df_train.appname.unique()), \n",
    "                         user_features=list(df_train.devicemodel.unique()))\n",
    "    interactions_unmasked = matrix.build_interactions(data=[[row[1], row[2]] for row in df_unmasked[['clientid', 'appname']].itertuples()])\n",
    "    interactions_masked = matrix.build_interactions(data=[[row[1], row[2]] for row in df_masked[['clientid', 'appname']].itertuples()])\n",
    "    user_features = matrix.build_user_features([[row[1], [row[2]]] for row in df_train[['clientid', 'devicemodel']].drop_duplicates().itertuples()], normalize=False)\n",
    "    print(f'----------------------TRAINING-{org}---------------------------------------')\n",
    "    model_lightfm_warp = LightFM(no_components=30, learning_rate=0.05, loss='warp')\n",
    "    model_lightfm_warp.fit(interactions_unmasked[0], epochs=10, verbose=True, num_threads=N_THREADS)\n",
    "    print(f'----------------------EVALUATION-{org}---------------------------------------')\n",
    "    mapping = matrix.mapping()\n",
    "    rec = Recommender(mapping, interactions_unmasked[0], relevant_apps, interactions_masked[0])\n",
    "    precision_by_k = rec.evaluating_precision_model_by_k([model_lightfm_warp], ['LightFM_warp'],\n",
    "                                       n_sample=10000, k_max=10, baselines=['popularity'])\n",
    "    precision_by_org[org] = precision_by_k['LightFM_warp']"
   ]
  },
  {
   "cell_type": "code",
   "execution_count": 7,
   "id": "1600f084",
   "metadata": {},
   "outputs": [
    {
     "data": {
      "text/html": [
       "<div>\n",
       "<style scoped>\n",
       "    .dataframe tbody tr th:only-of-type {\n",
       "        vertical-align: middle;\n",
       "    }\n",
       "\n",
       "    .dataframe tbody tr th {\n",
       "        vertical-align: top;\n",
       "    }\n",
       "\n",
       "    .dataframe thead th {\n",
       "        text-align: right;\n",
       "    }\n",
       "</style>\n",
       "<table border=\"1\" class=\"dataframe\">\n",
       "  <thead>\n",
       "    <tr style=\"text-align: right;\">\n",
       "      <th></th>\n",
       "      <th>entel</th>\n",
       "      <th>claroco</th>\n",
       "      <th>tim brasil</th>\n",
       "      <th>vivo</th>\n",
       "      <th>telefonica peru</th>\n",
       "      <th>claro br</th>\n",
       "      <th>claro ecuador</th>\n",
       "    </tr>\n",
       "    <tr>\n",
       "      <th>k</th>\n",
       "      <th></th>\n",
       "      <th></th>\n",
       "      <th></th>\n",
       "      <th></th>\n",
       "      <th></th>\n",
       "      <th></th>\n",
       "      <th></th>\n",
       "    </tr>\n",
       "  </thead>\n",
       "  <tbody>\n",
       "    <tr>\n",
       "      <th>2</th>\n",
       "      <td>0.498160</td>\n",
       "      <td>0.594520</td>\n",
       "      <td>0.567668</td>\n",
       "      <td>0.597704</td>\n",
       "      <td>0.539770</td>\n",
       "      <td>0.513951</td>\n",
       "      <td>0.559258</td>\n",
       "    </tr>\n",
       "    <tr>\n",
       "      <th>3</th>\n",
       "      <td>0.488468</td>\n",
       "      <td>0.554545</td>\n",
       "      <td>0.537009</td>\n",
       "      <td>0.569150</td>\n",
       "      <td>0.517197</td>\n",
       "      <td>0.507985</td>\n",
       "      <td>0.541402</td>\n",
       "    </tr>\n",
       "    <tr>\n",
       "      <th>4</th>\n",
       "      <td>0.482348</td>\n",
       "      <td>0.528633</td>\n",
       "      <td>0.514047</td>\n",
       "      <td>0.547252</td>\n",
       "      <td>0.502388</td>\n",
       "      <td>0.502750</td>\n",
       "      <td>0.523550</td>\n",
       "    </tr>\n",
       "    <tr>\n",
       "      <th>5</th>\n",
       "      <td>0.488903</td>\n",
       "      <td>0.510914</td>\n",
       "      <td>0.495193</td>\n",
       "      <td>0.532373</td>\n",
       "      <td>0.489224</td>\n",
       "      <td>0.500061</td>\n",
       "      <td>0.506898</td>\n",
       "    </tr>\n",
       "    <tr>\n",
       "      <th>6</th>\n",
       "      <td>0.481172</td>\n",
       "      <td>0.494732</td>\n",
       "      <td>0.484510</td>\n",
       "      <td>0.519707</td>\n",
       "      <td>0.477053</td>\n",
       "      <td>0.497891</td>\n",
       "      <td>0.491629</td>\n",
       "    </tr>\n",
       "    <tr>\n",
       "      <th>7</th>\n",
       "      <td>0.477308</td>\n",
       "      <td>0.484580</td>\n",
       "      <td>0.477930</td>\n",
       "      <td>0.509974</td>\n",
       "      <td>0.468932</td>\n",
       "      <td>0.491219</td>\n",
       "      <td>0.471905</td>\n",
       "    </tr>\n",
       "    <tr>\n",
       "      <th>8</th>\n",
       "      <td>0.470588</td>\n",
       "      <td>0.481088</td>\n",
       "      <td>0.473330</td>\n",
       "      <td>0.500604</td>\n",
       "      <td>0.460769</td>\n",
       "      <td>0.482704</td>\n",
       "      <td>0.460542</td>\n",
       "    </tr>\n",
       "    <tr>\n",
       "      <th>9</th>\n",
       "      <td>0.459908</td>\n",
       "      <td>0.474408</td>\n",
       "      <td>0.470210</td>\n",
       "      <td>0.489926</td>\n",
       "      <td>0.455606</td>\n",
       "      <td>0.487321</td>\n",
       "      <td>0.447995</td>\n",
       "    </tr>\n",
       "    <tr>\n",
       "      <th>10</th>\n",
       "      <td>0.445098</td>\n",
       "      <td>0.469745</td>\n",
       "      <td>0.466557</td>\n",
       "      <td>0.480846</td>\n",
       "      <td>0.446319</td>\n",
       "      <td>0.485410</td>\n",
       "      <td>0.439464</td>\n",
       "    </tr>\n",
       "  </tbody>\n",
       "</table>\n",
       "</div>"
      ],
      "text/plain": [
       "       entel   claroco  tim brasil      vivo  telefonica peru  claro br  \\\n",
       "k                                                                         \n",
       "2   0.498160  0.594520    0.567668  0.597704         0.539770  0.513951   \n",
       "3   0.488468  0.554545    0.537009  0.569150         0.517197  0.507985   \n",
       "4   0.482348  0.528633    0.514047  0.547252         0.502388  0.502750   \n",
       "5   0.488903  0.510914    0.495193  0.532373         0.489224  0.500061   \n",
       "6   0.481172  0.494732    0.484510  0.519707         0.477053  0.497891   \n",
       "7   0.477308  0.484580    0.477930  0.509974         0.468932  0.491219   \n",
       "8   0.470588  0.481088    0.473330  0.500604         0.460769  0.482704   \n",
       "9   0.459908  0.474408    0.470210  0.489926         0.455606  0.487321   \n",
       "10  0.445098  0.469745    0.466557  0.480846         0.446319  0.485410   \n",
       "\n",
       "    claro ecuador  \n",
       "k                  \n",
       "2        0.559258  \n",
       "3        0.541402  \n",
       "4        0.523550  \n",
       "5        0.506898  \n",
       "6        0.491629  \n",
       "7        0.471905  \n",
       "8        0.460542  \n",
       "9        0.447995  \n",
       "10       0.439464  "
      ]
     },
     "execution_count": 7,
     "metadata": {},
     "output_type": "execute_result"
    }
   ],
   "source": [
    "precision_by_org = pd.DataFrame(precision_by_org)\n",
    "precision_by_org.index.name = 'k'\n",
    "precision_by_org"
   ]
  },
  {
   "cell_type": "code",
   "execution_count": 9,
   "id": "d56cb9cf",
   "metadata": {},
   "outputs": [
    {
     "data": {
      "image/png": "[encoded data removed]",
      "text/plain": [
       "<Figure size 432x288 with 1 Axes>"
      ]
     },
     "metadata": {
      "needs_background": "light"
     },
     "output_type": "display_data"
    }
   ],
   "source": [
    "precision_by_org.plot();"
   ]
  }
 ],
 "metadata": {
  "kernelspec": {
   "display_name": "Python 3 (ipykernel)",
   "language": "python",
   "name": "python3"
  },
  "language_info": {
   "codemirror_mode": {
    "name": "ipython",
    "version": 3
   },
   "file_extension": ".py",
   "mimetype": "text/x-python",
   "name": "python",
   "nbconvert_exporter": "python",
   "pygments_lexer": "ipython3",
   "version": "3.9.12"
  }
 },
 "nbformat": 4,
 "nbformat_minor": 5
}
