{
 "cells": [
  {
   "cell_type": "code",
   "execution_count": 1,
   "id": "16574171",
   "metadata": {},
   "outputs": [],
   "source": [
    "import pyspark"
   ]
  },
  {
   "cell_type": "code",
   "execution_count": 2,
   "id": "467e6a3e",
   "metadata": {},
   "outputs": [],
   "source": [
    "import numpy as np\n",
    "import pandas as pd\n",
    "pd.options.display.max_columns = None"
   ]
  },
  {
   "cell_type": "code",
   "execution_count": 11,
   "id": "497d4829",
   "metadata": {},
   "outputs": [
    {
     "data": {
      "text/plain": [
       "'3.1.2'"
      ]
     },
     "execution_count": 11,
     "metadata": {},
     "output_type": "execute_result"
    }
   ],
   "source": [
    "pyspark.__version__"
   ]
  },
  {
   "cell_type": "code",
   "execution_count": 3,
   "id": "0ce70fd6",
   "metadata": {},
   "outputs": [],
   "source": [
    "from pyspark.sql.functions import when, count, col, isnull, percentile_approx, expr"
   ]
  },
  {
   "cell_type": "code",
   "execution_count": 4,
   "id": "491acfa1",
   "metadata": {},
   "outputs": [],
   "source": [
    "from pyspark.sql import SparkSession\n",
    "\n",
    "# Build the SparkSession\n",
    "spark = SparkSession.builder \\\n",
    "   .master(\"local\") \\\n",
    "   .appName(\"Modelo Crédito_2\") \\\n",
    "   .config(\"spark.executor.memory\", \"4gb\") \\\n",
    "   .getOrCreate()"
   ]
  },
  {
   "cell_type": "code",
   "execution_count": 5,
   "id": "fdee70fb",
   "metadata": {},
   "outputs": [],
   "source": [
    "# in Python\n",
    "base = spark\\\n",
    "    .read\\\n",
    "    .option(\"inferSchema\", \"true\")\\\n",
    "    .option(\"header\", \"true\")\\\n",
    "    .csv('dataset.csv')"
   ]
  },
  {
   "cell_type": "code",
   "execution_count": 6,
   "id": "0423e650",
   "metadata": {},
   "outputs": [
    {
     "data": {
      "text/plain": [
       "35021"
      ]
     },
     "execution_count": 6,
     "metadata": {},
     "output_type": "execute_result"
    }
   ],
   "source": [
    "base.count()"
   ]
  },
  {
   "cell_type": "code",
   "execution_count": 7,
   "id": "74fd1be9",
   "metadata": {},
   "outputs": [
    {
     "data": {
      "text/html": [
       "<div>\n",
       "<style scoped>\n",
       "    .dataframe tbody tr th:only-of-type {\n",
       "        vertical-align: middle;\n",
       "    }\n",
       "\n",
       "    .dataframe tbody tr th {\n",
       "        vertical-align: top;\n",
       "    }\n",
       "\n",
       "    .dataframe thead th {\n",
       "        text-align: right;\n",
       "    }\n",
       "</style>\n",
       "<table border=\"1\" class=\"dataframe\">\n",
       "  <thead>\n",
       "    <tr style=\"text-align: right;\">\n",
       "      <th></th>\n",
       "      <th>id</th>\n",
       "      <th>age</th>\n",
       "      <th>monthly_income</th>\n",
       "      <th>collateral_value</th>\n",
       "      <th>loan_amount</th>\n",
       "      <th>city</th>\n",
       "      <th>state</th>\n",
       "      <th>collateral_debt</th>\n",
       "      <th>verified_restriction</th>\n",
       "      <th>dishonored_checks</th>\n",
       "      <th>expired_debts</th>\n",
       "      <th>banking_debts</th>\n",
       "      <th>commercial_debts</th>\n",
       "      <th>protests</th>\n",
       "      <th>marital_status</th>\n",
       "      <th>informed_restriction</th>\n",
       "      <th>loan_term</th>\n",
       "      <th>monthly_payment</th>\n",
       "      <th>informed_purpose</th>\n",
       "      <th>auto_brand</th>\n",
       "      <th>auto_model</th>\n",
       "      <th>auto_year</th>\n",
       "      <th>pre_approved</th>\n",
       "      <th>form_completed</th>\n",
       "      <th>sent_to_analysis</th>\n",
       "      <th>channel</th>\n",
       "      <th>zip_code</th>\n",
       "      <th>landing_page</th>\n",
       "      <th>landing_page_product</th>\n",
       "      <th>gender</th>\n",
       "      <th>utm_term</th>\n",
       "      <th>education_level</th>\n",
       "    </tr>\n",
       "  </thead>\n",
       "  <tbody>\n",
       "    <tr>\n",
       "      <th>0</th>\n",
       "      <td>0</td>\n",
       "      <td>0</td>\n",
       "      <td>0</td>\n",
       "      <td>0</td>\n",
       "      <td>0</td>\n",
       "      <td>1</td>\n",
       "      <td>2</td>\n",
       "      <td>0</td>\n",
       "      <td>0</td>\n",
       "      <td>0</td>\n",
       "      <td>0</td>\n",
       "      <td>0</td>\n",
       "      <td>0</td>\n",
       "      <td>0</td>\n",
       "      <td>3603</td>\n",
       "      <td>0</td>\n",
       "      <td>0</td>\n",
       "      <td>0</td>\n",
       "      <td>1108</td>\n",
       "      <td>1</td>\n",
       "      <td>3</td>\n",
       "      <td>0</td>\n",
       "      <td>173</td>\n",
       "      <td>173</td>\n",
       "      <td>173</td>\n",
       "      <td>173</td>\n",
       "      <td>0</td>\n",
       "      <td>173</td>\n",
       "      <td>173</td>\n",
       "      <td>1407</td>\n",
       "      <td>173</td>\n",
       "      <td>173</td>\n",
       "    </tr>\n",
       "  </tbody>\n",
       "</table>\n",
       "</div>"
      ],
      "text/plain": [
       "   id  age  monthly_income  collateral_value  loan_amount  city  state  \\\n",
       "0   0    0               0                 0            0     1      2   \n",
       "\n",
       "   collateral_debt  verified_restriction  dishonored_checks  expired_debts  \\\n",
       "0                0                     0                  0              0   \n",
       "\n",
       "   banking_debts  commercial_debts  protests  marital_status  \\\n",
       "0              0                 0         0            3603   \n",
       "\n",
       "   informed_restriction  loan_term  monthly_payment  informed_purpose  \\\n",
       "0                     0          0                0              1108   \n",
       "\n",
       "   auto_brand  auto_model  auto_year  pre_approved  form_completed  \\\n",
       "0           1           3          0           173             173   \n",
       "\n",
       "   sent_to_analysis  channel  zip_code  landing_page  landing_page_product  \\\n",
       "0               173      173         0           173                   173   \n",
       "\n",
       "   gender  utm_term  education_level  \n",
       "0    1407       173              173  "
      ]
     },
     "execution_count": 7,
     "metadata": {},
     "output_type": "execute_result"
    }
   ],
   "source": [
    "null_values = base.select([count(when(isnull(c), c)).alias(c) for c in base.columns])\n",
    "\n",
    "null_values.toPandas()"
   ]
  },
  {
   "cell_type": "code",
   "execution_count": 8,
   "id": "5d92243c",
   "metadata": {},
   "outputs": [],
   "source": [
    "base_pre1 = base.na.drop(subset=['age', 'monthly_income', 'collateral_value', 'loan_amount', 'monthly_payment',\n",
    "                       'auto_brand', 'pre_approved', 'form_completed', 'sent_to_analysis', 'collateral_value'])"
   ]
  },
  {
   "cell_type": "code",
   "execution_count": 9,
   "id": "b8cd2431",
   "metadata": {},
   "outputs": [
    {
     "data": {
      "text/plain": [
       "34847"
      ]
     },
     "execution_count": 9,
     "metadata": {},
     "output_type": "execute_result"
    }
   ],
   "source": [
    "base_pre1.count()"
   ]
  },
  {
   "cell_type": "code",
   "execution_count": 10,
   "id": "7b4e1257",
   "metadata": {},
   "outputs": [],
   "source": [
    "#deletar colunas irrelevantes (id, city, state, informed_purpose, auto_model, gender) e comquantidades excessivas de nan (utm_term, marital_status, loan_term, landing_page_product)\n",
    "base_pre2 = base_pre1.drop('id', 'city', 'informed_purpose', 'auto_model', 'auto_brand','utm_term', 'marital_status', 'loan_term')"
   ]
  },
  {
   "cell_type": "code",
   "execution_count": 205,
   "id": "5712fb5c",
   "metadata": {},
   "outputs": [
    {
     "data": {
      "text/html": [
       "<div>\n",
       "<style scoped>\n",
       "    .dataframe tbody tr th:only-of-type {\n",
       "        vertical-align: middle;\n",
       "    }\n",
       "\n",
       "    .dataframe tbody tr th {\n",
       "        vertical-align: top;\n",
       "    }\n",
       "\n",
       "    .dataframe thead th {\n",
       "        text-align: right;\n",
       "    }\n",
       "</style>\n",
       "<table border=\"1\" class=\"dataframe\">\n",
       "  <thead>\n",
       "    <tr style=\"text-align: right;\">\n",
       "      <th></th>\n",
       "      <th>age</th>\n",
       "      <th>monthly_income</th>\n",
       "      <th>collateral_value</th>\n",
       "      <th>loan_amount</th>\n",
       "      <th>state</th>\n",
       "      <th>collateral_debt</th>\n",
       "      <th>verified_restriction</th>\n",
       "      <th>dishonored_checks</th>\n",
       "      <th>expired_debts</th>\n",
       "      <th>banking_debts</th>\n",
       "      <th>commercial_debts</th>\n",
       "      <th>protests</th>\n",
       "      <th>informed_restriction</th>\n",
       "      <th>monthly_payment</th>\n",
       "      <th>auto_year</th>\n",
       "      <th>pre_approved</th>\n",
       "      <th>form_completed</th>\n",
       "      <th>sent_to_analysis</th>\n",
       "      <th>channel</th>\n",
       "      <th>zip_code</th>\n",
       "      <th>landing_page</th>\n",
       "      <th>landing_page_product</th>\n",
       "      <th>gender</th>\n",
       "      <th>education_level</th>\n",
       "    </tr>\n",
       "  </thead>\n",
       "  <tbody>\n",
       "    <tr>\n",
       "      <th>0</th>\n",
       "      <td>61</td>\n",
       "      <td>1300</td>\n",
       "      <td>NA</td>\n",
       "      <td>10000</td>\n",
       "      <td>None</td>\n",
       "      <td>NA</td>\n",
       "      <td>NA</td>\n",
       "      <td>0</td>\n",
       "      <td>0</td>\n",
       "      <td>0</td>\n",
       "      <td>0</td>\n",
       "      <td>0</td>\n",
       "      <td>NA</td>\n",
       "      <td>NA</td>\n",
       "      <td>2010</td>\n",
       "      <td>0</td>\n",
       "      <td>1</td>\n",
       "      <td>0</td>\n",
       "      <td>NA</td>\n",
       "      <td>5754XXXX</td>\n",
       "      <td>NA</td>\n",
       "      <td>NA</td>\n",
       "      <td>male</td>\n",
       "      <td>NA</td>\n",
       "    </tr>\n",
       "    <tr>\n",
       "      <th>1</th>\n",
       "      <td>50</td>\n",
       "      <td>3500</td>\n",
       "      <td>40000</td>\n",
       "      <td>23936</td>\n",
       "      <td>MG</td>\n",
       "      <td>NA</td>\n",
       "      <td>1</td>\n",
       "      <td>0</td>\n",
       "      <td>0</td>\n",
       "      <td>1</td>\n",
       "      <td>0</td>\n",
       "      <td>0</td>\n",
       "      <td>1</td>\n",
       "      <td>813</td>\n",
       "      <td>2014</td>\n",
       "      <td>0</td>\n",
       "      <td>0</td>\n",
       "      <td>0</td>\n",
       "      <td>search</td>\n",
       "      <td>3688XXXX</td>\n",
       "      <td>/emprestimo/garantia-veiculo</td>\n",
       "      <td>AutoRefinancing</td>\n",
       "      <td>NA</td>\n",
       "      <td>NA</td>\n",
       "    </tr>\n",
       "  </tbody>\n",
       "</table>\n",
       "</div>"
      ],
      "text/plain": [
       "  age monthly_income collateral_value loan_amount state collateral_debt  \\\n",
       "0  61           1300               NA       10000  None              NA   \n",
       "1  50           3500            40000       23936    MG              NA   \n",
       "\n",
       "  verified_restriction  dishonored_checks  expired_debts  banking_debts  \\\n",
       "0                   NA                  0              0              0   \n",
       "1                    1                  0              0              1   \n",
       "\n",
       "   commercial_debts  protests informed_restriction monthly_payment auto_year  \\\n",
       "0                 0         0                   NA              NA      2010   \n",
       "1                 0         0                    1             813      2014   \n",
       "\n",
       "   pre_approved form_completed  sent_to_analysis channel  zip_code  \\\n",
       "0             0              1                 0      NA  5754XXXX   \n",
       "1             0              0                 0  search  3688XXXX   \n",
       "\n",
       "                   landing_page landing_page_product gender education_level  \n",
       "0                            NA                   NA   male              NA  \n",
       "1  /emprestimo/garantia-veiculo      AutoRefinancing     NA              NA  "
      ]
     },
     "execution_count": 205,
     "metadata": {},
     "output_type": "execute_result"
    }
   ],
   "source": [
    "base_pre2.toPandas().head(2)"
   ]
  },
  {
   "cell_type": "code",
   "execution_count": 206,
   "id": "2f85ec83",
   "metadata": {},
   "outputs": [],
   "source": [
    "from pyspark.sql.types import DoubleType\n",
    "numerical_cat = ['age', 'auto_year', 'monthly_income', 'collateral_value', 'loan_amount', 'collateral_debt', 'monthly_payment']\n",
    "for c in numerical_cat:\n",
    "    base_pre2 = base_pre2.withColumn(c, base_pre2[c].cast(DoubleType()))"
   ]
  },
  {
   "cell_type": "code",
   "execution_count": 207,
   "id": "dab7d9d8",
   "metadata": {},
   "outputs": [
    {
     "name": "stdout",
     "output_type": "stream",
     "text": [
      "root\n",
      " |-- age: double (nullable = true)\n",
      " |-- monthly_income: double (nullable = true)\n",
      " |-- collateral_value: double (nullable = true)\n",
      " |-- loan_amount: double (nullable = true)\n",
      " |-- state: string (nullable = true)\n",
      " |-- collateral_debt: double (nullable = true)\n",
      " |-- verified_restriction: string (nullable = true)\n",
      " |-- dishonored_checks: integer (nullable = true)\n",
      " |-- expired_debts: integer (nullable = true)\n",
      " |-- banking_debts: integer (nullable = true)\n",
      " |-- commercial_debts: integer (nullable = true)\n",
      " |-- protests: integer (nullable = true)\n",
      " |-- informed_restriction: string (nullable = true)\n",
      " |-- monthly_payment: double (nullable = true)\n",
      " |-- auto_year: double (nullable = true)\n",
      " |-- pre_approved: integer (nullable = true)\n",
      " |-- form_completed: string (nullable = true)\n",
      " |-- sent_to_analysis: integer (nullable = true)\n",
      " |-- channel: string (nullable = true)\n",
      " |-- zip_code: string (nullable = true)\n",
      " |-- landing_page: string (nullable = true)\n",
      " |-- landing_page_product: string (nullable = true)\n",
      " |-- gender: string (nullable = true)\n",
      " |-- education_level: string (nullable = true)\n",
      "\n"
     ]
    }
   ],
   "source": [
    "base_pre2.printSchema()"
   ]
  },
  {
   "cell_type": "code",
   "execution_count": 208,
   "id": "3a371497",
   "metadata": {},
   "outputs": [],
   "source": [
    "median_collateral_debt = base_pre2.na.drop(subset=['collateral_debt']).approxQuantile(\"collateral_debt\", [0.5], 0.01)\n",
    "base_pre2 = base_pre2.na.fill({'collateral_debt':median_collateral_debt[0]})"
   ]
  },
  {
   "cell_type": "code",
   "execution_count": 218,
   "id": "28f77ffc",
   "metadata": {},
   "outputs": [],
   "source": [
    "base_pre2 = base_pre2.withColumn('Total_value', expr('loan_amount/(collateral_debt+collateral_value)'))\n",
    "base_pre2 = base_pre2.withColumn('Total_monthly', expr('monthly_payment/monthly_income'))"
   ]
  },
  {
   "cell_type": "code",
   "execution_count": 220,
   "id": "1ff31f1a",
   "metadata": {},
   "outputs": [],
   "source": [
    "base_pre2 = base_pre2.withColumn('zip_code', base_pre2['zip_code'].substr(0, 1))"
   ]
  },
  {
   "cell_type": "code",
   "execution_count": 263,
   "id": "c5002c08",
   "metadata": {},
   "outputs": [],
   "source": [
    "base_pre3 = base_pre2"
   ]
  },
  {
   "cell_type": "code",
   "execution_count": 264,
   "id": "68b18711",
   "metadata": {},
   "outputs": [
    {
     "data": {
      "text/html": [
       "<div>\n",
       "<style scoped>\n",
       "    .dataframe tbody tr th:only-of-type {\n",
       "        vertical-align: middle;\n",
       "    }\n",
       "\n",
       "    .dataframe tbody tr th {\n",
       "        vertical-align: top;\n",
       "    }\n",
       "\n",
       "    .dataframe thead th {\n",
       "        text-align: right;\n",
       "    }\n",
       "</style>\n",
       "<table border=\"1\" class=\"dataframe\">\n",
       "  <thead>\n",
       "    <tr style=\"text-align: right;\">\n",
       "      <th></th>\n",
       "      <th>age</th>\n",
       "      <th>monthly_income</th>\n",
       "      <th>collateral_value</th>\n",
       "      <th>loan_amount</th>\n",
       "      <th>state</th>\n",
       "      <th>collateral_debt</th>\n",
       "      <th>verified_restriction</th>\n",
       "      <th>dishonored_checks</th>\n",
       "      <th>expired_debts</th>\n",
       "      <th>banking_debts</th>\n",
       "      <th>commercial_debts</th>\n",
       "      <th>protests</th>\n",
       "      <th>informed_restriction</th>\n",
       "      <th>monthly_payment</th>\n",
       "      <th>auto_year</th>\n",
       "      <th>pre_approved</th>\n",
       "      <th>form_completed</th>\n",
       "      <th>sent_to_analysis</th>\n",
       "      <th>channel</th>\n",
       "      <th>zip_code</th>\n",
       "      <th>landing_page</th>\n",
       "      <th>landing_page_product</th>\n",
       "      <th>gender</th>\n",
       "      <th>education_level</th>\n",
       "      <th>Total_value</th>\n",
       "      <th>Total_monthly</th>\n",
       "    </tr>\n",
       "  </thead>\n",
       "  <tbody>\n",
       "    <tr>\n",
       "      <th>0</th>\n",
       "      <td>2</td>\n",
       "      <td>2</td>\n",
       "      <td>20</td>\n",
       "      <td>3</td>\n",
       "      <td>2</td>\n",
       "      <td>0</td>\n",
       "      <td>0</td>\n",
       "      <td>0</td>\n",
       "      <td>0</td>\n",
       "      <td>0</td>\n",
       "      <td>0</td>\n",
       "      <td>0</td>\n",
       "      <td>0</td>\n",
       "      <td>1278</td>\n",
       "      <td>4</td>\n",
       "      <td>0</td>\n",
       "      <td>0</td>\n",
       "      <td>0</td>\n",
       "      <td>0</td>\n",
       "      <td>0</td>\n",
       "      <td>0</td>\n",
       "      <td>0</td>\n",
       "      <td>1233</td>\n",
       "      <td>0</td>\n",
       "      <td>22</td>\n",
       "      <td>1278</td>\n",
       "    </tr>\n",
       "  </tbody>\n",
       "</table>\n",
       "</div>"
      ],
      "text/plain": [
       "   age  monthly_income  collateral_value  loan_amount  state  collateral_debt  \\\n",
       "0    2               2                20            3      2                0   \n",
       "\n",
       "   verified_restriction  dishonored_checks  expired_debts  banking_debts  \\\n",
       "0                     0                  0              0              0   \n",
       "\n",
       "   commercial_debts  protests  informed_restriction  monthly_payment  \\\n",
       "0                 0         0                     0             1278   \n",
       "\n",
       "   auto_year  pre_approved  form_completed  sent_to_analysis  channel  \\\n",
       "0          4             0               0                 0        0   \n",
       "\n",
       "   zip_code  landing_page  landing_page_product  gender  education_level  \\\n",
       "0         0             0                     0    1233                0   \n",
       "\n",
       "   Total_value  Total_monthly  \n",
       "0           22           1278  "
      ]
     },
     "execution_count": 264,
     "metadata": {},
     "output_type": "execute_result"
    }
   ],
   "source": [
    "null_values = base_pre3.select([count(when(isnull(c), c)).alias(c) for c in base_pre3.columns])\n",
    "\n",
    "null_values.toPandas()"
   ]
  },
  {
   "cell_type": "code",
   "execution_count": 265,
   "id": "c7101f9c",
   "metadata": {},
   "outputs": [],
   "source": [
    "base_pre3 = base_pre3.na.drop()"
   ]
  },
  {
   "cell_type": "code",
   "execution_count": 266,
   "id": "77d4853f",
   "metadata": {},
   "outputs": [],
   "source": [
    "def remover_outliers(x, const):\n",
    "    Q1 = base_pre3.approxQuantile(x, [0.25], 0.01)[0]\n",
    "    Q3 = base_pre3.approxQuantile(x, [0.75], 0.01)[0]\n",
    "    IQR = Q3 - Q1\n",
    "    return base_pre3[x] < (Q1 + const*IQR)\n",
    "\n",
    "col_outliers = ['age', 'Total_value', 'Total_monthly', 'monthly_income', 'collateral_debt', 'collateral_value']\n",
    "for col, const in zip(col_outliers, [3.5, 5, 5, 15, 15, 15]):\n",
    "    base_pre3 = base_pre3.where(remover_outliers(col, const))"
   ]
  },
  {
   "cell_type": "code",
   "execution_count": 267,
   "id": "f33c59ea",
   "metadata": {},
   "outputs": [],
   "source": [
    "from pyspark.ml.feature import StandardScaler\n",
    "from pyspark.ml.feature import StringIndexer\n",
    "from pyspark.ml import Pipeline\n",
    "from pyspark.ml.feature import VectorAssembler"
   ]
  },
  {
   "cell_type": "code",
   "execution_count": 268,
   "id": "92cc0a1b",
   "metadata": {},
   "outputs": [],
   "source": [
    "normalizar = ['age', 'monthly_income', 'collateral_value', 'auto_year','loan_amount', 'collateral_debt', 'monthly_payment', 'monthly_income', ]\n",
    "assembler = VectorAssembler().setInputCols(normalizar).setOutputCol('col_normalizar')\n",
    "\n",
    "base_pre3 = assembler.transform(base_pre3)"
   ]
  },
  {
   "cell_type": "code",
   "execution_count": 269,
   "id": "95319a32",
   "metadata": {},
   "outputs": [],
   "source": [
    "ss = StandardScaler().setInputCol('col_normalizar').setOutputCol('col_normalizado')\n",
    "base_pre3 = ss.fit(base_pre3).transform(base_pre3)"
   ]
  },
  {
   "cell_type": "code",
   "execution_count": 270,
   "id": "57ca18d0",
   "metadata": {},
   "outputs": [],
   "source": [
    "categoricas = ['informed_restriction', 'form_completed', 'pre_approved', 'verified_restriction', \n",
    "               'zip_code', 'gender', 'expired_debts', 'dishonored_checks', 'education_level', \n",
    "               'channel', 'landing_page', 'landing_page_product', 'protests', 'state']\n",
    "categoricas_le = [i+'_le' for i in categoricas]\n",
    "for col, col_le in zip(categoricas, categoricas_le):\n",
    "    le = StringIndexer().setInputCol(col).setOutputCol(col_le)\n",
    "    base_pre3 = le.fit(base_pre3).transform(base_pre3)"
   ]
  },
  {
   "cell_type": "code",
   "execution_count": 271,
   "id": "4811f975",
   "metadata": {},
   "outputs": [],
   "source": [
    "preditores = ['age', 'monthly_income', 'collateral_value', 'loan_amount', 'collateral_debt', 'monthly_payment', \n",
    "              'auto_year', 'Total_value', 'Total_monthly', 'pre_approved', 'form_completed', 'education_level', \n",
    "              'verified_restriction', 'zip_code', 'gender', 'expired_debts', \n",
    "              'dishonored_checks', 'protests']\n",
    "base_final = base_pre3.select(['col_normalizado']+categoricas_le)"
   ]
  },
  {
   "cell_type": "code",
   "execution_count": 272,
   "id": "e06e03dd",
   "metadata": {},
   "outputs": [],
   "source": [
    "assembler = VectorAssembler().setInputCols(list(set(base_final.columns)-(set(['pre_approved_le'])))).setOutputCol('features')\n",
    "\n",
    "base_final = assembler.transform(base_final)"
   ]
  },
  {
   "cell_type": "code",
   "execution_count": 274,
   "id": "bb752f99",
   "metadata": {},
   "outputs": [],
   "source": [
    "base_final = base_final.select(['features', 'pre_approved_le'])"
   ]
  },
  {
   "cell_type": "code",
   "execution_count": 275,
   "id": "405bb028",
   "metadata": {},
   "outputs": [],
   "source": [
    "train, test = base_final.randomSplit([0.7, 0.3])"
   ]
  },
  {
   "cell_type": "code",
   "execution_count": null,
   "id": "47c98e17",
   "metadata": {},
   "outputs": [],
   "source": [
    "from pyspark.ml.classification import GBTClassifier\n",
    "gbt = GBTClassifier(featuresCol = 'features', labelCol = 'pre_approved_le', maxBins= 500)\n",
    "gbtModel = gbt.fit(train)"
   ]
  },
  {
   "cell_type": "code",
   "execution_count": 295,
   "id": "f4c776fa",
   "metadata": {},
   "outputs": [],
   "source": [
    "predictions = gbtModel.transform(test)"
   ]
  },
  {
   "cell_type": "code",
   "execution_count": 296,
   "id": "cd6e3c74",
   "metadata": {},
   "outputs": [
    {
     "data": {
      "text/plain": [
       "['features', 'pre_approved_le', 'rawPrediction', 'probability', 'prediction']"
      ]
     },
     "execution_count": 296,
     "metadata": {},
     "output_type": "execute_result"
    }
   ],
   "source": [
    "predictions.columns"
   ]
  },
  {
   "cell_type": "code",
   "execution_count": 330,
   "id": "4853c4ec",
   "metadata": {},
   "outputs": [
    {
     "name": "stdout",
     "output_type": "stream",
     "text": [
      "Accuracy = 0.9024\n",
      "Test Error 0.0976\n"
     ]
    }
   ],
   "source": [
    "from pyspark.ml.evaluation import MulticlassClassificationEvaluator\n",
    "\n",
    "evaluator = MulticlassClassificationEvaluator(labelCol=\"pre_approved_le\", predictionCol=\"prediction\")\n",
    "accuracy = evaluator.evaluate(predictions)\n",
    "print(f'Accuracy = {round(accuracy,4)}')\n",
    "print(f'Test Error {round((1.0 - accuracy),4)}')"
   ]
  },
  {
   "cell_type": "code",
   "execution_count": 297,
   "id": "715edd3e",
   "metadata": {},
   "outputs": [],
   "source": [
    "predictions_df = predictions.select(['pre_approved_le', 'prediction', 'probability']).toPandas()"
   ]
  },
  {
   "cell_type": "code",
   "execution_count": 316,
   "id": "14bf15a5",
   "metadata": {},
   "outputs": [
    {
     "name": "stdout",
     "output_type": "stream",
     "text": [
      "A Área sob a curva ROC é 0.967:\n"
     ]
    }
   ],
   "source": [
    "# calculate the fpr and tpr for all thresholds of the classification\n",
    "import sklearn.metrics as metrics\n",
    "fpr, tpr, threshold = metrics.roc_curve(predictions_df.pre_approved_le.values, [i[1] for i in predictions_df.probability])\n",
    "roc_auc = metrics.auc(fpr, tpr)\n",
    "print('A Área sob a curva ROC é %0.3f:' %roc_auc)"
   ]
  },
  {
   "cell_type": "code",
   "execution_count": 326,
   "id": "a0362e96",
   "metadata": {},
   "outputs": [
    {
     "data": {
      "image/png": "[encoded data removed]",
      "text/plain": [
       "<Figure size 432x288 with 1 Axes>"
      ]
     },
     "metadata": {
      "needs_background": "light"
     },
     "output_type": "display_data"
    }
   ],
   "source": [
    "import scikitplot as skplt\n",
    "skplt.metrics.plot_roc(predictions_df.pre_approved_le.values, list(predictions_df.probability));"
   ]
  }
 ],
 "metadata": {
  "kernelspec": {
   "display_name": "Python 3",
   "language": "python",
   "name": "python3"
  },
  "language_info": {
   "codemirror_mode": {
    "name": "ipython",
    "version": 3
   },
   "file_extension": ".py",
   "mimetype": "text/x-python",
   "name": "python",
   "nbconvert_exporter": "python",
   "pygments_lexer": "ipython3",
   "version": "3.8.8"
  }
 },
 "nbformat": 4,
 "nbformat_minor": 5
}
