{
 "cells": [
  {
   "cell_type": "code",
   "execution_count": 190,
   "id": "6fcadcba",
   "metadata": {},
   "outputs": [],
   "source": [
    "import os\n",
    "os.chdir('C:/Users/bruno/Documents/Simulação e Modelos/Python_simulação')\n",
    "import pandas as pd\n",
    "from scipy.stats import zscore\n",
    "import numpy as np\n",
    "import sympy as sy"
   ]
  },
  {
   "cell_type": "code",
   "execution_count": 11,
   "id": "5cb29199",
   "metadata": {},
   "outputs": [],
   "source": [
    "df = pd.read_csv('exe_5.csv')"
   ]
  },
  {
   "cell_type": "code",
   "execution_count": 13,
   "id": "a31d3f83",
   "metadata": {},
   "outputs": [
    {
     "data": {
      "text/html": [
       "<div>\n",
       "<style scoped>\n",
       "    .dataframe tbody tr th:only-of-type {\n",
       "        vertical-align: middle;\n",
       "    }\n",
       "\n",
       "    .dataframe tbody tr th {\n",
       "        vertical-align: top;\n",
       "    }\n",
       "\n",
       "    .dataframe thead th {\n",
       "        text-align: right;\n",
       "    }\n",
       "</style>\n",
       "<table border=\"1\" class=\"dataframe\">\n",
       "  <thead>\n",
       "    <tr style=\"text-align: right;\">\n",
       "      <th></th>\n",
       "      <th>Quantidade de caixas</th>\n",
       "    </tr>\n",
       "  </thead>\n",
       "  <tbody>\n",
       "    <tr>\n",
       "      <th>count</th>\n",
       "      <td>200.000000</td>\n",
       "    </tr>\n",
       "    <tr>\n",
       "      <th>mean</th>\n",
       "      <td>19428.055000</td>\n",
       "    </tr>\n",
       "    <tr>\n",
       "      <th>std</th>\n",
       "      <td>10121.629093</td>\n",
       "    </tr>\n",
       "    <tr>\n",
       "      <th>min</th>\n",
       "      <td>2007.000000</td>\n",
       "    </tr>\n",
       "    <tr>\n",
       "      <th>25%</th>\n",
       "      <td>12007.250000</td>\n",
       "    </tr>\n",
       "    <tr>\n",
       "      <th>50%</th>\n",
       "      <td>18506.000000</td>\n",
       "    </tr>\n",
       "    <tr>\n",
       "      <th>75%</th>\n",
       "      <td>26090.750000</td>\n",
       "    </tr>\n",
       "    <tr>\n",
       "      <th>max</th>\n",
       "      <td>62758.000000</td>\n",
       "    </tr>\n",
       "  </tbody>\n",
       "</table>\n",
       "</div>"
      ],
      "text/plain": [
       "       Quantidade de caixas\n",
       "count            200.000000\n",
       "mean           19428.055000\n",
       "std            10121.629093\n",
       "min             2007.000000\n",
       "25%            12007.250000\n",
       "50%            18506.000000\n",
       "75%            26090.750000\n",
       "max            62758.000000"
      ]
     },
     "execution_count": 13,
     "metadata": {},
     "output_type": "execute_result"
    }
   ],
   "source": [
    "df.describe()"
   ]
  },
  {
   "cell_type": "code",
   "execution_count": 15,
   "id": "b2af7daf",
   "metadata": {},
   "outputs": [
    {
     "data": {
      "image/png": "[encoded data removed]",
      "text/plain": [
       "<Figure size 432x288 with 1 Axes>"
      ]
     },
     "metadata": {
      "needs_background": "light"
     },
     "output_type": "display_data"
    }
   ],
   "source": [
    "df.boxplot(column=['Quantidade de caixas']);"
   ]
  },
  {
   "cell_type": "code",
   "execution_count": 38,
   "id": "75aa0415",
   "metadata": {},
   "outputs": [],
   "source": [
    "#remoção de outliers - método do quartil\n",
    "quartil_1 = df['Quantidade de caixas'].quantile(.25)\n",
    "quartil_3 = df['Quantidade de caixas'].quantile(.75)\n",
    "Intervalo_inferior = quartil_1-3*(quartil_3-quartil_1)\n",
    "Intervalo_superior = quartil_3+3*(quartil_3-quartil_1)\n",
    "new_df_1 = df[df['Quantidade de caixas'].between(Intervalo_inferior, Intervalo_superior)]"
   ]
  },
  {
   "cell_type": "code",
   "execution_count": 39,
   "id": "2d868942",
   "metadata": {},
   "outputs": [],
   "source": [
    "#remoção de outliers - método z-score\n",
    "z_scores = zscore(df)\n",
    "abs_z_scores = np.abs(z_scores)\n",
    "filtered_entries = (abs_z_scores < 3).all(axis=1)\n",
    "new_df_2 = df[filtered_entries]"
   ]
  },
  {
   "cell_type": "code",
   "execution_count": 220,
   "id": "289d715f",
   "metadata": {},
   "outputs": [],
   "source": [
    "mu = np.mean(new_df_2)\n",
    "sigma = np.std(new_df_2)\n",
    "# Plot the distribution curve"
   ]
  },
  {
   "cell_type": "code",
   "execution_count": 107,
   "id": "93a8049f",
   "metadata": {},
   "outputs": [
    {
     "data": {
      "image/png": "[encoded data removed]",
      "text/plain": [
       "<Figure size 432x288 with 1 Axes>"
      ]
     },
     "metadata": {
      "needs_background": "light"
     },
     "output_type": "display_data"
    }
   ],
   "source": [
    "count, bins, ignored = plt.hist(new_df_2, 15)"
   ]
  },
  {
   "cell_type": "code",
   "execution_count": 250,
   "id": "bfebfdb3",
   "metadata": {},
   "outputs": [],
   "source": [
    "from scipy.integrate import quad\n",
    "\n",
    "def f(x):\n",
    "    return 1/(sigma * np.sqrt(2 * np.pi))*sy.exp(-(x - mu)**2 / (2 * sigma**2))\n",
    "\n",
    "def normal(mu,sigma, bins):\n",
    "    return [1/(sigma * np.sqrt(2 * np.pi))*np.exp(-(bin - mu)**2 / (2 * sigma**2)) for bin in bins]\n",
    "\n",
    "def cumnormal(mu, sigma, bins):\n",
    "    bins_cum = []\n",
    "    for bin_ in bins:\n",
    "        cum = 0\n",
    "        for i in np.arange(0, bin_, bin_/1000):\n",
    "            cum+= 1/(sigma * np.sqrt(2 * np.pi))*np.exp(-(i - mu)**2 / (2 * sigma**2))\n",
    "        bins_cum.append(cum)\n",
    "    return bins_cum\n",
    "\n",
    "def cumnormal_int(mu, sigma, bins):\n",
    "    bins_cum = []\n",
    "    for bin_ in bins:\n",
    "        cum, err = quad(f, 0, bin_)\n",
    "        bins_cum.append(cum)\n",
    "    return bins_cum"
   ]
  },
  {
   "cell_type": "code",
   "execution_count": 285,
   "id": "ac8f3245",
   "metadata": {},
   "outputs": [
    {
     "name": "stdout",
     "output_type": "stream",
     "text": [
      "Statistics=0.982, p=0.011\n",
      "Amostra não segue uma distribuição normal (rejeita H0)\n"
     ]
    }
   ],
   "source": [
    "# Shapiro-Wilk Test\n",
    "from scipy.stats import shapiro\n",
    "\n",
    "stat, p = shapiro(new_df_2)\n",
    "print('Statistics=%.3f, p=%.3f' % (stat, p))\n",
    "# interpret\n",
    "alpha = 0.05\n",
    "if p > alpha:\n",
    "    print('Amostra segue uma distribuição normal (falha ao rejeitar H0)')\n",
    "else:\n",
    "    print('Amostra não segue uma distribuição normal (rejeita H0)')"
   ]
  },
  {
   "cell_type": "code",
   "execution_count": 85,
   "id": "ca54c17e",
   "metadata": {},
   "outputs": [
    {
     "data": {
      "image/png": "[encoded data removed]",
      "text/plain": [
       "<Figure size 432x288 with 1 Axes>"
      ]
     },
     "metadata": {
      "needs_background": "light"
     },
     "output_type": "display_data"
    }
   ],
   "source": [
    "from statsmodels.graphics.gofplots import qqplot\n",
    "from matplotlib import pyplot\n",
    "qqplot(new_df_2, line='s')\n",
    "pyplot.show()"
   ]
  },
  {
   "cell_type": "code",
   "execution_count": null,
   "id": "0e20b00e",
   "metadata": {},
   "outputs": [],
   "source": [
    "#teste qui-quadrado\n",
    "teorico = []\n",
    "for i in range(len(bins)-1):\n",
    "    t= np.abs((cumnormal_int(mu,sigma, bins)[i+1]-cumnormal_int(mu,sigma, bins)[i]))*200\n",
    "    teorico.append(t)\n",
    "    "
   ]
  },
  {
   "cell_type": "code",
   "execution_count": 278,
   "id": "e6da547c",
   "metadata": {},
   "outputs": [
    {
     "name": "stdout",
     "output_type": "stream",
     "text": [
      "Com um pvalue 0.5, não rejeitamos a hipótese de que a frequência observada é normal\n"
     ]
    }
   ],
   "source": [
    "from scipy.stats.mstats import chisquare \n",
    "statistic, pvalue = chisquare(count, teorico)\n",
    "if pvalue>0.05:\n",
    "    print(f'Com um pvalue {round(pvalue,2)}, não rejeitamos a hipótese de que a frequência observada é normal')\n",
    "else:\n",
    "    print(f'Com um pvalue {round(pvalue,2)}, rejeitamos a hipótese de que a frequência observada é normal')"
   ]
  },
  {
   "cell_type": "code",
   "execution_count": 125,
   "id": "db8b4f9c",
   "metadata": {},
   "outputs": [
    {
     "data": {
      "image/png": "[encoded data removed]",
      "text/plain": [
       "<Figure size 432x288 with 1 Axes>"
      ]
     },
     "metadata": {
      "needs_background": "light"
     },
     "output_type": "display_data"
    }
   ],
   "source": [
    "simulacao = np.random.normal(mu, sigma, 100)\n",
    "plt.hist(simulacao, 15);"
   ]
  }
 ],
 "metadata": {
  "kernelspec": {
   "display_name": "Python 3",
   "language": "python",
   "name": "python3"
  },
  "language_info": {
   "codemirror_mode": {
    "name": "ipython",
    "version": 3
   },
   "file_extension": ".py",
   "mimetype": "text/x-python",
   "name": "python",
   "nbconvert_exporter": "python",
   "pygments_lexer": "ipython3",
   "version": "3.8.8"
  }
 },
 "nbformat": 4,
 "nbformat_minor": 5
}
